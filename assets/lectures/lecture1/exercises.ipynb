{
 "cells": [
  {
   "cell_type": "code",
   "execution_count": null,
   "id": "85330f53-c794-42d1-bc79-3d8402cd409f",
   "metadata": {},
   "outputs": [],
   "source": [
    "import torch\n",
    "import torch.nn as nn"
   ]
  },
  {
   "cell_type": "markdown",
   "id": "c66c7558-2779-4287-99e8-e0346f3b7a85",
   "metadata": {},
   "source": [
    "## Problem 1\n",
    "\n",
    "Write a function that computes the attention between query, key and value vectors.\\\n",
    "The attention formula is $Attention(Q,K,V) = Softmax(\\frac{QK^T}{\\sqrt{d_k}}) V$ where $d_k$ is the hidden dimension of the key vectors."
   ]
  },
  {
   "cell_type": "code",
   "execution_count": null,
   "id": "d31ee24f-ab98-4f5f-a3ec-f7853aeaf186",
   "metadata": {
    "deletable": false,
    "nbgrader": {
     "cell_type": "code",
     "checksum": "ea68f993f33ab7ba1a785a7e86c2d453",
     "grade": false,
     "grade_id": "cell-a4b06670d7392040",
     "locked": false,
     "schema_version": 3,
     "solution": true,
     "task": false
    }
   },
   "outputs": [],
   "source": [
    "def attention(q, k, v):\n",
    "    \"\"\"Compute the attention between Q, K and V\n",
    "    All tensors have shape (batch size, sequence length, hidden dim)\n",
    "    \"\"\"\n",
    "    # YOUR CODE HERE\n",
    "    raise NotImplementedError()"
   ]
  },
  {
   "cell_type": "code",
   "execution_count": null,
   "id": "41607636-7ffe-463b-8fcd-2748d422b6ea",
   "metadata": {
    "deletable": false,
    "editable": false,
    "nbgrader": {
     "cell_type": "code",
     "checksum": "88ff09fec9a07a6a547b5b9bcdff34b4",
     "grade": true,
     "grade_id": "cell-d769f61e3fc66dfe",
     "locked": true,
     "points": 5,
     "schema_version": 3,
     "solution": false,
     "task": false
    }
   },
   "outputs": [],
   "source": [
    "q = torch.zeros(4, 16, 32)\n",
    "k = torch.zeros(4, 16, 32)\n",
    "v = torch.zeros(4, 16, 32)\n",
    "\n",
    "expected = torch.zeros(4, 16, 32)\n",
    "assert torch.allclose(expected, attention(q, k, v))"
   ]
  },
  {
   "cell_type": "markdown",
   "id": "6804b5b1-a6b8-418f-961e-3786630457b6",
   "metadata": {},
   "source": [
    "## Problem 2\n",
    "\n",
    "Write a custom layer that implements the following formula:\n",
    "\n",
    "$h_1 = W_1 x + b_1$\\\n",
    "$h_2 = W_2 h_1 + b_2$\\\n",
    "$h_{3} = h_1 + h_2$\\\n",
    "$y = \\text{sigmoid}(W_{\\text{3}} h_{3} + b_{\\text{3}})$\n",
    "\n",
    "where every vector is of size 10 and $W_1, b_1, W_2, b_2, W_3, b_3$ are learnable parameters.\n"
   ]
  },
  {
   "cell_type": "code",
   "execution_count": null,
   "id": "48488ed1",
   "metadata": {
    "deletable": false,
    "nbgrader": {
     "cell_type": "code",
     "checksum": "4c03d8a43f047c61fa7d445d1a6f099f",
     "grade": false,
     "grade_id": "cell-0ba30c835d03c24c",
     "locked": false,
     "schema_version": 3,
     "solution": true,
     "task": false
    }
   },
   "outputs": [],
   "source": [
    "class MyModel(nn.Module):\n",
    "    def __init__(self):\n",
    "        super(MyModel, self).__init__()\n",
    "        # YOUR CODE HERE\n",
    "        raise NotImplementedError()\n",
    "\n",
    "    def forward(self, x):\n",
    "        # YOUR CODE HERE\n",
    "        raise NotImplementedError()\n"
   ]
  },
  {
   "cell_type": "code",
   "execution_count": null,
   "id": "399863b0",
   "metadata": {
    "deletable": false,
    "editable": false,
    "nbgrader": {
     "cell_type": "code",
     "checksum": "a1c453897a71de4304d1d7c55e406ec1",
     "grade": true,
     "grade_id": "cell-a77e13b85233be8c",
     "locked": true,
     "points": 5,
     "schema_version": 3,
     "solution": false,
     "task": false
    }
   },
   "outputs": [],
   "source": [
    "model = MyModel()\n",
    "x = torch.randn(4, 10)\n",
    "y = model(x)\n",
    "assert y.shape == (4, 10)"
   ]
  },
  {
   "cell_type": "markdown",
   "id": "f64e3bbb",
   "metadata": {},
   "source": [
    "## Problem 3\n",
    "\n",
    "The MNIST dataset is a collection of handwritten digits. The goal is to classify each digit into one of 10 classes.\n",
    "Each image is 28x28 pixels, and each pixel is a grayscale value between 0 and 255. There are 60000 training images and 10000 test images.\n",
    "\n",
    "Train a neural network that achieves > 90% accuracy on the MNIST dataset.\\\n",
    "Hint: Convolutional Networks are effective for image classification tasks."
   ]
  },
  {
   "cell_type": "code",
   "execution_count": null,
   "id": "ce669b41",
   "metadata": {
    "deletable": false,
    "editable": false,
    "nbgrader": {
     "cell_type": "code",
     "checksum": "fc6bc6fe545bbda6981091a41259ad97",
     "grade": false,
     "grade_id": "cell-1fb0520b3cff89ef",
     "locked": true,
     "schema_version": 3,
     "solution": false,
     "task": false
    }
   },
   "outputs": [],
   "source": [
    "# Load MNIST dataset\n",
    "from torchvision import datasets, transforms\n",
    "\n",
    "\n",
    "# Load training data\n",
    "train_dataset = datasets.MNIST(root='./data', train=True, download=True, transform=transforms.ToTensor())\n",
    "train_loader = torch.utils.data.DataLoader(train_dataset, batch_size=64, shuffle=True)\n",
    "\n",
    "# Load test data\n",
    "test_dataset = datasets.MNIST(root='./data', train=False, download=True, transform=transforms.ToTensor())\n",
    "test_loader = torch.utils.data.DataLoader(test_dataset, batch_size=1000, shuffle=False)\n",
    "\n",
    "print(f\"Training dataset size: {len(train_dataset)}\")\n",
    "print(f\"Test dataset size: {len(test_dataset)}\")\n",
    "\n",
    "def evaluate(model):\n",
    "    model.eval()\n",
    "    correct = 0\n",
    "    total = 0\n",
    "    with torch.no_grad():\n",
    "        for data, target in test_loader:\n",
    "            output = model(data)\n",
    "            pred = output.argmax(dim=1, keepdim=True)\n",
    "            correct += pred.eq(target.view_as(pred)).sum().item()\n",
    "            total += target.size(0)\n",
    "\n",
    "    return correct / total"
   ]
  },
  {
   "cell_type": "code",
   "execution_count": null,
   "id": "5329b4c6-8110-4f5c-851c-462f48981142",
   "metadata": {
    "deletable": false,
    "nbgrader": {
     "cell_type": "code",
     "checksum": "e31ccf5e145167af27f4589c4843dfcf",
     "grade": false,
     "grade_id": "cell-f248b5896dbf97d5",
     "locked": false,
     "schema_version": 3,
     "solution": true,
     "task": false
    }
   },
   "outputs": [],
   "source": [
    "# Create your model in the \"model\" variable and train it\n",
    "# YOUR CODE HERE\n",
    "raise NotImplementedError()"
   ]
  },
  {
   "cell_type": "code",
   "execution_count": null,
   "id": "ec7d5a51",
   "metadata": {
    "deletable": false,
    "editable": false,
    "nbgrader": {
     "cell_type": "code",
     "checksum": "506cd4c7fa4862dfb1d49b1d65f0a530",
     "grade": true,
     "grade_id": "cell-c6c1ef1811be9dc3",
     "locked": true,
     "points": 10,
     "schema_version": 3,
     "solution": false,
     "task": false
    }
   },
   "outputs": [],
   "source": [
    "x = torch.randn(4, 1, 28, 28)\n",
    "# Assert forward pass works\n",
    "y = model(x)\n",
    "assert y.shape == (4, 10)\n",
    "assert evaluate(model) > 0.9"
   ]
  }
 ],
 "metadata": {
  "kernelspec": {
   "display_name": "Python 3 (ipykernel)",
   "language": "python",
   "name": "python3"
  },
  "language_info": {
   "codemirror_mode": {
    "name": "ipython",
    "version": 3
   },
   "file_extension": ".py",
   "mimetype": "text/x-python",
   "name": "python",
   "nbconvert_exporter": "python",
   "pygments_lexer": "ipython3",
   "version": "3.12.6"
  }
 },
 "nbformat": 4,
 "nbformat_minor": 5
}
